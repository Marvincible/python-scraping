{
 "cells": [
  {
   "cell_type": "code",
   "execution_count": 1,
   "metadata": {},
   "outputs": [],
   "source": [
    "import pandas as pd"
   ]
  },
  {
   "cell_type": "code",
   "execution_count": 2,
   "metadata": {},
   "outputs": [],
   "source": [
    "#wczytanie plikow\n",
    "zamowienia = pd.read_csv('zamowienia.csv', sep = ';')\n",
    "wyslane = pd.read_csv('wyslane.csv', sep = ';')\n",
    "cena_bazowa = pd.read_csv('cena bazowa.csv', sep = ';')"
   ]
  },
  {
   "cell_type": "code",
   "execution_count": 45,
   "metadata": {},
   "outputs": [
    {
     "name": "stdout",
     "output_type": "stream",
     "text": [
      "   order_id  client_id  order_date KUPON\n",
      "0   1462414  523933015  29.06.2019   NaN\n",
      "1   1538139  814107372  15.08.2019   NaN\n",
      "2   1838871  713139458  19.08.2019   NaN\n",
      "3   1896544  123641536  05.05.2019   15%\n",
      "4   1943852  602252913  30.07.2019   NaN \n",
      "\n",
      " order_id       int64\n",
      "client_id      int64\n",
      "order_date    object\n",
      "KUPON         object\n",
      "dtype: object\n"
     ]
    }
   ],
   "source": [
    "print(zamowienia.head(), '\\n\\n', zamowienia.dtypes)"
   ]
  },
  {
   "cell_type": "code",
   "execution_count": 10,
   "metadata": {},
   "outputs": [
    {
     "name": "stdout",
     "output_type": "stream",
     "text": [
      "    order_id  item_id_1  item_id_2  item_id_3\n",
      "0  314631735    2655227  9051607.0        NaN\n",
      "1  802224752    1984910  4286301.0        NaN\n",
      "2  716057036    2669985  1052038.0        NaN\n",
      "3  125731133    5966397        NaN        NaN\n",
      "4   12070864    6788106  9643817.0        NaN\n",
      "order_id       int64\n",
      "item_id_1      int64\n",
      "item_id_2    float64\n",
      "item_id_3    float64\n",
      "dtype: object\n"
     ]
    }
   ],
   "source": [
    "print(wyslane.head())\n",
    "print(wyslane.dtypes)"
   ]
  },
  {
   "cell_type": "code",
   "execution_count": 11,
   "metadata": {},
   "outputs": [
    {
     "name": "stdout",
     "output_type": "stream",
     "text": [
      "   item_id  base_price\n",
      "0  7447126         225\n",
      "1  2696692         112\n",
      "2  2883136         192\n",
      "3  1984910         136\n",
      "4  2242676         107\n",
      "item_id       int64\n",
      "base_price    int64\n",
      "dtype: object\n"
     ]
    }
   ],
   "source": [
    "print(cena_bazowa.head())\n",
    "print(cena_bazowa.dtypes)"
   ]
  },
  {
   "cell_type": "markdown",
   "metadata": {},
   "source": [
    "# Zadanie 1\n",
    "**Zad.1.1** W jakim dniu roku klienci złożyli najwięcej zamówień?"
   ]
  },
  {
   "cell_type": "code",
   "execution_count": 13,
   "metadata": {},
   "outputs": [
    {
     "data": {
      "text/plain": [
       "True"
      ]
     },
     "execution_count": 13,
     "metadata": {},
     "output_type": "execute_result"
    }
   ],
   "source": [
    "#czy columna 'order_id' zawiera duplikaty?\n",
    "zamowienia['order_id'].duplicated().any()\n"
   ]
  },
  {
   "cell_type": "code",
   "execution_count": 16,
   "metadata": {},
   "outputs": [
    {
     "data": {
      "text/plain": [
       "order_date\n",
       "14.08.2019    41\n",
       "15.04.2019    39\n",
       "06.05.2019    39\n",
       "18.06.2019    39\n",
       "19.03.2019    38\n",
       "              ..\n",
       "25.08.2019    18\n",
       "21.06.2019    17\n",
       "08.07.2019    16\n",
       "09.03.2019    14\n",
       "24.09.2019     1\n",
       "Name: order_id, Length: 182, dtype: int64"
      ]
     },
     "execution_count": 16,
     "metadata": {},
     "output_type": "execute_result"
    }
   ],
   "source": [
    "#pogrupuj tabelę ze wzgl. na 'order_date' i licz unikatowe 'order_id', sortuj majejąco\n",
    "zamowienia.groupby('order_date').nunique().sort_values('order_id', ascending=False)['order_id']"
   ]
  },
  {
   "cell_type": "markdown",
   "metadata": {},
   "source": [
    ",**ODP**: Najwięcej zamówień zrealizowano 14stego sierpnia 2019 roku"
   ]
  },
  {
   "cell_type": "markdown",
   "metadata": {},
   "source": [
    "**Zad.1.2**  Ilu klientów skorzystało z kuponu rabatowego w trakcie zakupów?"
   ]
  },
  {
   "cell_type": "code",
   "execution_count": 22,
   "metadata": {},
   "outputs": [
    {
     "name": "stdout",
     "output_type": "stream",
     "text": [
      "5000\n"
     ]
    }
   ],
   "source": [
    "#W celach kontrolnych sprawdź ile jest klientow w bazie\n",
    "l_klientow = zamowienia['client_id'].nunique()\n",
    "print(l_klientow)"
   ]
  },
  {
   "cell_type": "code",
   "execution_count": 33,
   "metadata": {},
   "outputs": [
    {
     "name": "stdout",
     "output_type": "stream",
     "text": [
      "     order_id  client_id  order_date KUPON\n",
      "3     1896544  123641536  05.05.2019   15%\n",
      "5     2143538  563294140  08.04.2019   40%\n",
      "23    4932443  314452019  31.03.2019   20%\n",
      "25    5231560  649526055  19.07.2019    5%\n",
      "26    6074529  849773609  08.07.2019   30%\n",
      "34    7643295  380338614  01.07.2019   20%\n",
      "37    7760735  432992730  25.07.2019   33%\n",
      "43    8491185  560082186  06.06.2019   22%\n",
      "44    8498697  782072858  03.04.2019   47%\n",
      "87   17060830   38976820  06.06.2019   43%\n",
      "101  19081937  653782027  16.06.2019   11%\n",
      "120  22511692  906035383  18.04.2019   37%\n",
      "122  23523052  903152127  24.07.2019   13%\n",
      "124  23786262  633370291  26.08.2019   38%\n",
      "127  24976074   72002508  23.05.2019   22%\n",
      "128  25549564  214128780  07.07.2019   20%\n",
      "142  26633023  826087161  22.05.2019   27%\n",
      "143  26831396  105444091  21.06.2019    7%\n",
      "145  27079353  807481688  10.07.2019   29%\n",
      "146  28079090  832378906  23.07.2019   33% \n",
      "\n",
      "       order_id  client_id  order_date KUPON\n",
      "4978  989975805  629069382  11.03.2019   23%\n",
      "4983  990489830  970602477  17.07.2019   16%\n",
      "4987  991971052  369199092  08.04.2019   20%\n",
      "4989  992097353    1802561  17.05.2019    8%\n",
      "4992  993046116  333915179  05.07.2019   28%\n",
      "4998  993806672  733932462  14.08.2019   43%\n",
      "5005  994770134  260389043  18.05.2019   45%\n",
      "5013  996541103  989867713  25.08.2019   29%\n",
      "5014  997108649  182839695  31.03.2019   22%\n",
      "5018  997711725    4117165  06.05.2019    9%\n"
     ]
    }
   ],
   "source": [
    "#Stwórz tabelę z rekordami niezawierającymi brakującej wartości w 'KUPON'\n",
    "klient_kupon = zamowienia.loc[~zamowienia['KUPON'].isna()]\n",
    "print(klient_kupon.head(20), '\\n')\n",
    "print(klient_kupon.tail(10))"
   ]
  },
  {
   "cell_type": "code",
   "execution_count": 32,
   "metadata": {},
   "outputs": [
    {
     "name": "stdout",
     "output_type": "stream",
     "text": [
      "998\n"
     ]
    }
   ],
   "source": [
    "#Zlicz liczbę unikatowych wartości 'client_id' w tej tabeli\n",
    "odp = len(klient_kupon['client_id'].unique())\n",
    "print(odp)"
   ]
  },
  {
   "cell_type": "markdown",
   "metadata": {},
   "source": [
    "**ODP**: Zakupy z rabatem wykonało 998 klientów.\n",
    "\n",
    "**Zad1.3** Ilu klientów zrobiło w analizowanym okresie więcej niż jedno zamówienie?"
   ]
  },
  {
   "cell_type": "code",
   "execution_count": 38,
   "metadata": {},
   "outputs": [
    {
     "data": {
      "text/html": [
       "<div>\n",
       "<style scoped>\n",
       "    .dataframe tbody tr th:only-of-type {\n",
       "        vertical-align: middle;\n",
       "    }\n",
       "\n",
       "    .dataframe tbody tr th {\n",
       "        vertical-align: top;\n",
       "    }\n",
       "\n",
       "    .dataframe thead th {\n",
       "        text-align: right;\n",
       "    }\n",
       "</style>\n",
       "<table border=\"1\" class=\"dataframe\">\n",
       "  <thead>\n",
       "    <tr style=\"text-align: right;\">\n",
       "      <th></th>\n",
       "      <th>order_id</th>\n",
       "      <th>client_id</th>\n",
       "      <th>order_date</th>\n",
       "      <th>KUPON</th>\n",
       "    </tr>\n",
       "    <tr>\n",
       "      <th>client_id</th>\n",
       "      <th></th>\n",
       "      <th></th>\n",
       "      <th></th>\n",
       "      <th></th>\n",
       "    </tr>\n",
       "  </thead>\n",
       "  <tbody>\n",
       "    <tr>\n",
       "      <th>107893</th>\n",
       "      <td>1</td>\n",
       "      <td>1</td>\n",
       "      <td>1</td>\n",
       "      <td>0</td>\n",
       "    </tr>\n",
       "    <tr>\n",
       "      <th>165795</th>\n",
       "      <td>1</td>\n",
       "      <td>1</td>\n",
       "      <td>1</td>\n",
       "      <td>1</td>\n",
       "    </tr>\n",
       "    <tr>\n",
       "      <th>288561</th>\n",
       "      <td>1</td>\n",
       "      <td>1</td>\n",
       "      <td>1</td>\n",
       "      <td>0</td>\n",
       "    </tr>\n",
       "    <tr>\n",
       "      <th>554772</th>\n",
       "      <td>1</td>\n",
       "      <td>1</td>\n",
       "      <td>1</td>\n",
       "      <td>1</td>\n",
       "    </tr>\n",
       "    <tr>\n",
       "      <th>713722</th>\n",
       "      <td>1</td>\n",
       "      <td>1</td>\n",
       "      <td>1</td>\n",
       "      <td>0</td>\n",
       "    </tr>\n",
       "  </tbody>\n",
       "</table>\n",
       "</div>"
      ],
      "text/plain": [
       "           order_id  client_id  order_date  KUPON\n",
       "client_id                                        \n",
       "107893            1          1           1      0\n",
       "165795            1          1           1      1\n",
       "288561            1          1           1      0\n",
       "554772            1          1           1      1\n",
       "713722            1          1           1      0"
      ]
     },
     "execution_count": 38,
     "metadata": {},
     "output_type": "execute_result"
    }
   ],
   "source": [
    "#Zlicz wartości 'client_id', dla których występuje > 1 niepowtarzająca się wartość 'order_id'\n",
    "zam = zamowienia.groupby('client_id').nunique()\n",
    "zam.head()"
   ]
  },
  {
   "cell_type": "code",
   "execution_count": 40,
   "metadata": {},
   "outputs": [
    {
     "name": "stdout",
     "output_type": "stream",
     "text": [
      "17\n"
     ]
    }
   ],
   "source": [
    "odp = len(zam.loc[zam['order_id'] > 1])\n",
    "print(odp)"
   ]
  },
  {
   "cell_type": "markdown",
   "metadata": {},
   "source": [
    "**ODP:** Więcej niż 1 zamówienie wykonało 17 klientów."
   ]
  },
  {
   "cell_type": "markdown",
   "metadata": {},
   "source": [
    "## **Zad.1.4** Który z produktów cieszył się największym powodzeniem? Ilu klientów kupiło go ze zniżką?"
   ]
  },
  {
   "cell_type": "code",
   "execution_count": 47,
   "metadata": {},
   "outputs": [
    {
     "data": {
      "text/plain": [
       "False"
      ]
     },
     "execution_count": 47,
     "metadata": {},
     "output_type": "execute_result"
    }
   ],
   "source": [
    "wyslane['order_id'].duplicated().any()"
   ]
  },
  {
   "cell_type": "code",
   "execution_count": 53,
   "metadata": {},
   "outputs": [
    {
     "data": {
      "text/plain": [
       "item_id\n",
       "4355722.0    70\n",
       "4652599.0    65\n",
       "8368010.0    64\n",
       "4550408.0    64\n",
       "4118332.0    62\n",
       "             ..\n",
       "6837984.0    37\n",
       "534353.0     37\n",
       "1816982.0    35\n",
       "4666241.0    33\n",
       "7250913.0    31\n",
       "Name: order_id, Length: 110, dtype: int64"
      ]
     },
     "execution_count": 53,
     "metadata": {},
     "output_type": "execute_result"
    }
   ],
   "source": [
    "#Zacznę od stworzenia tabeli (na podstawie 'wyslane') gdzie wartość każdego 'produkt_id' będzie w osobnym wierszu\n",
    "# i pogrupowania jej ze względu na wartość 'product_id'\n",
    "wyslane_order_item1 = pd.DataFrame()\n",
    "wyslane_order_item2 = pd.DataFrame()\n",
    "wyslane_order_item3 = pd.DataFrame()\n",
    "wyslane_order_item1[['order_id', 'item_id']] = wyslane[['order_id','item_id_1']]\n",
    "wyslane_order_item2[['order_id', 'item_id']] = wyslane[['order_id','item_id_2']]\n",
    "wyslane_order_item3[['order_id', 'item_id']] = wyslane[['order_id','item_id_3']]\n",
    "wyslane_new = pd.concat([wyslane_order_item1,wyslane_order_item2, wyslane_order_item3])\n",
    "wyslane_new.groupby(['item_id']).count().sort_values(by='order_id', ascending=False)['order_id']\n"
   ]
  },
  {
   "cell_type": "code",
   "execution_count": 57,
   "metadata": {},
   "outputs": [
    {
     "name": "stdout",
     "output_type": "stream",
     "text": [
      "      order_id    item_id\n",
      "1295   1462414        NaN\n",
      "1295   1462414  1115180.0\n",
      "1295   1462414        NaN\n",
      "2744   1538139  7838989.0\n",
      "2744   1538139  3109031.0 \n",
      "\n",
      " 11001\n"
     ]
    }
   ],
   "source": [
    "#Na tym etapie wiemy, że najczęściej wysyłany produkt to produkt o 'item_id' = 4355722.\n",
    "#Sprawdźmy ilu klientów kupiło ten produkt ze zniżką.\n",
    "print(wyslane_new.sort_values('order_id').head(), '\\n\\n' , len(wyslane_new))\n"
   ]
  },
  {
   "cell_type": "code",
   "execution_count": 63,
   "metadata": {},
   "outputs": [
    {
     "data": {
      "text/html": [
       "<div>\n",
       "<style scoped>\n",
       "    .dataframe tbody tr th:only-of-type {\n",
       "        vertical-align: middle;\n",
       "    }\n",
       "\n",
       "    .dataframe tbody tr th {\n",
       "        vertical-align: top;\n",
       "    }\n",
       "\n",
       "    .dataframe thead th {\n",
       "        text-align: right;\n",
       "    }\n",
       "</style>\n",
       "<table border=\"1\" class=\"dataframe\">\n",
       "  <thead>\n",
       "    <tr style=\"text-align: right;\">\n",
       "      <th></th>\n",
       "      <th>order_id</th>\n",
       "      <th>item_id</th>\n",
       "    </tr>\n",
       "  </thead>\n",
       "  <tbody>\n",
       "    <tr>\n",
       "      <th>7</th>\n",
       "      <td>533840397</td>\n",
       "      <td>4355722.0</td>\n",
       "    </tr>\n",
       "    <tr>\n",
       "      <th>97</th>\n",
       "      <td>8769369</td>\n",
       "      <td>4355722.0</td>\n",
       "    </tr>\n",
       "    <tr>\n",
       "      <th>288</th>\n",
       "      <td>686785833</td>\n",
       "      <td>4355722.0</td>\n",
       "    </tr>\n",
       "    <tr>\n",
       "      <th>367</th>\n",
       "      <td>935081843</td>\n",
       "      <td>4355722.0</td>\n",
       "    </tr>\n",
       "    <tr>\n",
       "      <th>410</th>\n",
       "      <td>626848390</td>\n",
       "      <td>4355722.0</td>\n",
       "    </tr>\n",
       "    <tr>\n",
       "      <th>...</th>\n",
       "      <td>...</td>\n",
       "      <td>...</td>\n",
       "    </tr>\n",
       "    <tr>\n",
       "      <th>3357</th>\n",
       "      <td>250983304</td>\n",
       "      <td>4355722.0</td>\n",
       "    </tr>\n",
       "    <tr>\n",
       "      <th>3361</th>\n",
       "      <td>149348383</td>\n",
       "      <td>4355722.0</td>\n",
       "    </tr>\n",
       "    <tr>\n",
       "      <th>3490</th>\n",
       "      <td>974122825</td>\n",
       "      <td>4355722.0</td>\n",
       "    </tr>\n",
       "    <tr>\n",
       "      <th>3513</th>\n",
       "      <td>145853928</td>\n",
       "      <td>4355722.0</td>\n",
       "    </tr>\n",
       "    <tr>\n",
       "      <th>1810</th>\n",
       "      <td>355473732</td>\n",
       "      <td>4355722.0</td>\n",
       "    </tr>\n",
       "  </tbody>\n",
       "</table>\n",
       "<p>70 rows × 2 columns</p>\n",
       "</div>"
      ],
      "text/plain": [
       "       order_id    item_id\n",
       "7     533840397  4355722.0\n",
       "97      8769369  4355722.0\n",
       "288   686785833  4355722.0\n",
       "367   935081843  4355722.0\n",
       "410   626848390  4355722.0\n",
       "...         ...        ...\n",
       "3357  250983304  4355722.0\n",
       "3361  149348383  4355722.0\n",
       "3490  974122825  4355722.0\n",
       "3513  145853928  4355722.0\n",
       "1810  355473732  4355722.0\n",
       "\n",
       "[70 rows x 2 columns]"
      ]
     },
     "execution_count": 63,
     "metadata": {},
     "output_type": "execute_result"
    }
   ],
   "source": [
    "#usuń wiersze, w których wartość 'item_id' jest brakująca.\n",
    "wys_clean = wyslane_new.loc[~wyslane_new['item_id'].isna()]\n",
    "wys_clean.sort_values('order_id').head(15)\n",
    "wys_produkt = wyslane_new.loc[wyslane_new['item_id'] == 4355722]\n",
    "wys_produkt"
   ]
  },
  {
   "cell_type": "code",
   "execution_count": 65,
   "metadata": {},
   "outputs": [
    {
     "data": {
      "text/plain": [
       "True"
      ]
     },
     "execution_count": 65,
     "metadata": {},
     "output_type": "execute_result"
    }
   ],
   "source": [
    "#połącz tabelę wys_produkt z tabelą wyslane lewostronnie poprzez kolumnę 'order_id'\n",
    "zamow_produkt = pd.merge(left = wys_produkt, right = zamowienia, on = 'order_id', how = 'left')\n",
    "len(zamow_produkt) == len(wys_produkt)"
   ]
  },
  {
   "cell_type": "code",
   "execution_count": 66,
   "metadata": {},
   "outputs": [
    {
     "data": {
      "text/html": [
       "<div>\n",
       "<style scoped>\n",
       "    .dataframe tbody tr th:only-of-type {\n",
       "        vertical-align: middle;\n",
       "    }\n",
       "\n",
       "    .dataframe tbody tr th {\n",
       "        vertical-align: top;\n",
       "    }\n",
       "\n",
       "    .dataframe thead th {\n",
       "        text-align: right;\n",
       "    }\n",
       "</style>\n",
       "<table border=\"1\" class=\"dataframe\">\n",
       "  <thead>\n",
       "    <tr style=\"text-align: right;\">\n",
       "      <th></th>\n",
       "      <th>order_id</th>\n",
       "      <th>item_id</th>\n",
       "      <th>client_id</th>\n",
       "      <th>order_date</th>\n",
       "      <th>KUPON</th>\n",
       "    </tr>\n",
       "  </thead>\n",
       "  <tbody>\n",
       "    <tr>\n",
       "      <th>0</th>\n",
       "      <td>533840397</td>\n",
       "      <td>4355722.0</td>\n",
       "      <td>1394242</td>\n",
       "      <td>04.06.2019</td>\n",
       "      <td>NaN</td>\n",
       "    </tr>\n",
       "    <tr>\n",
       "      <th>1</th>\n",
       "      <td>8769369</td>\n",
       "      <td>4355722.0</td>\n",
       "      <td>292592441</td>\n",
       "      <td>06.03.2019</td>\n",
       "      <td>NaN</td>\n",
       "    </tr>\n",
       "    <tr>\n",
       "      <th>2</th>\n",
       "      <td>686785833</td>\n",
       "      <td>4355722.0</td>\n",
       "      <td>327247246</td>\n",
       "      <td>23.08.2019</td>\n",
       "      <td>NaN</td>\n",
       "    </tr>\n",
       "    <tr>\n",
       "      <th>3</th>\n",
       "      <td>935081843</td>\n",
       "      <td>4355722.0</td>\n",
       "      <td>340242212</td>\n",
       "      <td>10.04.2019</td>\n",
       "      <td>NaN</td>\n",
       "    </tr>\n",
       "    <tr>\n",
       "      <th>4</th>\n",
       "      <td>626848390</td>\n",
       "      <td>4355722.0</td>\n",
       "      <td>349194620</td>\n",
       "      <td>09.07.2019</td>\n",
       "      <td>NaN</td>\n",
       "    </tr>\n",
       "    <tr>\n",
       "      <th>5</th>\n",
       "      <td>719996443</td>\n",
       "      <td>4355722.0</td>\n",
       "      <td>367562101</td>\n",
       "      <td>15.04.2019</td>\n",
       "      <td>NaN</td>\n",
       "    </tr>\n",
       "    <tr>\n",
       "      <th>6</th>\n",
       "      <td>915988214</td>\n",
       "      <td>4355722.0</td>\n",
       "      <td>370886321</td>\n",
       "      <td>17.05.2019</td>\n",
       "      <td>NaN</td>\n",
       "    </tr>\n",
       "    <tr>\n",
       "      <th>7</th>\n",
       "      <td>224480672</td>\n",
       "      <td>4355722.0</td>\n",
       "      <td>413811797</td>\n",
       "      <td>13.06.2019</td>\n",
       "      <td>NaN</td>\n",
       "    </tr>\n",
       "    <tr>\n",
       "      <th>8</th>\n",
       "      <td>237748346</td>\n",
       "      <td>4355722.0</td>\n",
       "      <td>438622704</td>\n",
       "      <td>28.05.2019</td>\n",
       "      <td>NaN</td>\n",
       "    </tr>\n",
       "    <tr>\n",
       "      <th>9</th>\n",
       "      <td>138971790</td>\n",
       "      <td>4355722.0</td>\n",
       "      <td>464167862</td>\n",
       "      <td>19.06.2019</td>\n",
       "      <td>27%</td>\n",
       "    </tr>\n",
       "  </tbody>\n",
       "</table>\n",
       "</div>"
      ],
      "text/plain": [
       "    order_id    item_id  client_id  order_date KUPON\n",
       "0  533840397  4355722.0    1394242  04.06.2019   NaN\n",
       "1    8769369  4355722.0  292592441  06.03.2019   NaN\n",
       "2  686785833  4355722.0  327247246  23.08.2019   NaN\n",
       "3  935081843  4355722.0  340242212  10.04.2019   NaN\n",
       "4  626848390  4355722.0  349194620  09.07.2019   NaN\n",
       "5  719996443  4355722.0  367562101  15.04.2019   NaN\n",
       "6  915988214  4355722.0  370886321  17.05.2019   NaN\n",
       "7  224480672  4355722.0  413811797  13.06.2019   NaN\n",
       "8  237748346  4355722.0  438622704  28.05.2019   NaN\n",
       "9  138971790  4355722.0  464167862  19.06.2019   27%"
      ]
     },
     "execution_count": 66,
     "metadata": {},
     "output_type": "execute_result"
    }
   ],
   "source": [
    "zamow_produkt.head(10)"
   ]
  },
  {
   "cell_type": "code",
   "execution_count": 72,
   "metadata": {},
   "outputs": [
    {
     "data": {
      "text/html": [
       "<div>\n",
       "<style scoped>\n",
       "    .dataframe tbody tr th:only-of-type {\n",
       "        vertical-align: middle;\n",
       "    }\n",
       "\n",
       "    .dataframe tbody tr th {\n",
       "        vertical-align: top;\n",
       "    }\n",
       "\n",
       "    .dataframe thead th {\n",
       "        text-align: right;\n",
       "    }\n",
       "</style>\n",
       "<table border=\"1\" class=\"dataframe\">\n",
       "  <thead>\n",
       "    <tr style=\"text-align: right;\">\n",
       "      <th></th>\n",
       "      <th>order_id</th>\n",
       "      <th>item_id</th>\n",
       "      <th>client_id</th>\n",
       "      <th>order_date</th>\n",
       "      <th>KUPON</th>\n",
       "    </tr>\n",
       "  </thead>\n",
       "  <tbody>\n",
       "    <tr>\n",
       "      <th>9</th>\n",
       "      <td>138971790</td>\n",
       "      <td>4355722.0</td>\n",
       "      <td>464167862</td>\n",
       "      <td>19.06.2019</td>\n",
       "      <td>27%</td>\n",
       "    </tr>\n",
       "    <tr>\n",
       "      <th>21</th>\n",
       "      <td>314897786</td>\n",
       "      <td>4355722.0</td>\n",
       "      <td>648064241</td>\n",
       "      <td>05.05.2019</td>\n",
       "      <td>25%</td>\n",
       "    </tr>\n",
       "    <tr>\n",
       "      <th>22</th>\n",
       "      <td>462374358</td>\n",
       "      <td>4355722.0</td>\n",
       "      <td>671157869</td>\n",
       "      <td>24.04.2019</td>\n",
       "      <td>24%</td>\n",
       "    </tr>\n",
       "    <tr>\n",
       "      <th>31</th>\n",
       "      <td>383098201</td>\n",
       "      <td>4355722.0</td>\n",
       "      <td>884329427</td>\n",
       "      <td>11.08.2019</td>\n",
       "      <td>45%</td>\n",
       "    </tr>\n",
       "    <tr>\n",
       "      <th>32</th>\n",
       "      <td>877092857</td>\n",
       "      <td>4355722.0</td>\n",
       "      <td>895450181</td>\n",
       "      <td>06.03.2019</td>\n",
       "      <td>25%</td>\n",
       "    </tr>\n",
       "  </tbody>\n",
       "</table>\n",
       "</div>"
      ],
      "text/plain": [
       "     order_id    item_id  client_id  order_date KUPON\n",
       "9   138971790  4355722.0  464167862  19.06.2019   27%\n",
       "21  314897786  4355722.0  648064241  05.05.2019   25%\n",
       "22  462374358  4355722.0  671157869  24.04.2019   24%\n",
       "31  383098201  4355722.0  884329427  11.08.2019   45%\n",
       "32  877092857  4355722.0  895450181  06.03.2019   25%"
      ]
     },
     "execution_count": 72,
     "metadata": {},
     "output_type": "execute_result"
    }
   ],
   "source": [
    "prd_kupon = zamow_produkt.loc[~zamow_produkt['KUPON'].isna()]\n",
    "prd_kupon.head()"
   ]
  },
  {
   "cell_type": "code",
   "execution_count": 74,
   "metadata": {
    "scrolled": true
   },
   "outputs": [
    {
     "name": "stdout",
     "output_type": "stream",
     "text": [
      "11\n"
     ]
    }
   ],
   "source": [
    "l_klientow = prd_kupon['client_id'].nunique()\n",
    "print(l_klientow)"
   ]
  },
  {
   "cell_type": "markdown",
   "metadata": {},
   "source": [
    "**ODP:** Najpopularniejszy produkt to 4355722, a 11 klientów kupiło go ze zniżką."
   ]
  },
  {
   "cell_type": "markdown",
   "metadata": {},
   "source": [
    "## **Zad.1.5** Który produkt był najczęściej kupowany ze zniżką?"
   ]
  },
  {
   "cell_type": "code",
   "execution_count": 77,
   "metadata": {},
   "outputs": [
    {
     "data": {
      "text/html": [
       "<div>\n",
       "<style scoped>\n",
       "    .dataframe tbody tr th:only-of-type {\n",
       "        vertical-align: middle;\n",
       "    }\n",
       "\n",
       "    .dataframe tbody tr th {\n",
       "        vertical-align: top;\n",
       "    }\n",
       "\n",
       "    .dataframe thead th {\n",
       "        text-align: right;\n",
       "    }\n",
       "</style>\n",
       "<table border=\"1\" class=\"dataframe\">\n",
       "  <thead>\n",
       "    <tr style=\"text-align: right;\">\n",
       "      <th></th>\n",
       "      <th>order_id</th>\n",
       "      <th>item_id</th>\n",
       "      <th>client_id</th>\n",
       "      <th>order_date</th>\n",
       "      <th>KUPON</th>\n",
       "    </tr>\n",
       "  </thead>\n",
       "  <tbody>\n",
       "    <tr>\n",
       "      <th>0</th>\n",
       "      <td>314631735</td>\n",
       "      <td>2655227.0</td>\n",
       "      <td>107893</td>\n",
       "      <td>19.05.2019</td>\n",
       "      <td>NaN</td>\n",
       "    </tr>\n",
       "    <tr>\n",
       "      <th>1</th>\n",
       "      <td>802224752</td>\n",
       "      <td>1984910.0</td>\n",
       "      <td>165795</td>\n",
       "      <td>26.03.2019</td>\n",
       "      <td>49%</td>\n",
       "    </tr>\n",
       "    <tr>\n",
       "      <th>2</th>\n",
       "      <td>716057036</td>\n",
       "      <td>2669985.0</td>\n",
       "      <td>288561</td>\n",
       "      <td>06.03.2019</td>\n",
       "      <td>NaN</td>\n",
       "    </tr>\n",
       "    <tr>\n",
       "      <th>3</th>\n",
       "      <td>125731133</td>\n",
       "      <td>5966397.0</td>\n",
       "      <td>554772</td>\n",
       "      <td>04.04.2019</td>\n",
       "      <td>5%</td>\n",
       "    </tr>\n",
       "    <tr>\n",
       "      <th>4</th>\n",
       "      <td>12070864</td>\n",
       "      <td>6788106.0</td>\n",
       "      <td>713722</td>\n",
       "      <td>04.03.2019</td>\n",
       "      <td>NaN</td>\n",
       "    </tr>\n",
       "  </tbody>\n",
       "</table>\n",
       "</div>"
      ],
      "text/plain": [
       "    order_id    item_id  client_id  order_date KUPON\n",
       "0  314631735  2655227.0     107893  19.05.2019   NaN\n",
       "1  802224752  1984910.0     165795  26.03.2019   49%\n",
       "2  716057036  2669985.0     288561  06.03.2019   NaN\n",
       "3  125731133  5966397.0     554772  04.04.2019    5%\n",
       "4   12070864  6788106.0     713722  04.03.2019   NaN"
      ]
     },
     "execution_count": 77,
     "metadata": {},
     "output_type": "execute_result"
    }
   ],
   "source": [
    "prod_znizka = pd.merge(left = wys_clean, right = zamowienia, on = 'order_id', how = 'left')\n",
    "prod_znizka.head()"
   ]
  },
  {
   "cell_type": "code",
   "execution_count": 79,
   "metadata": {},
   "outputs": [
    {
     "data": {
      "text/html": [
       "<div>\n",
       "<style scoped>\n",
       "    .dataframe tbody tr th:only-of-type {\n",
       "        vertical-align: middle;\n",
       "    }\n",
       "\n",
       "    .dataframe tbody tr th {\n",
       "        vertical-align: top;\n",
       "    }\n",
       "\n",
       "    .dataframe thead th {\n",
       "        text-align: right;\n",
       "    }\n",
       "</style>\n",
       "<table border=\"1\" class=\"dataframe\">\n",
       "  <thead>\n",
       "    <tr style=\"text-align: right;\">\n",
       "      <th></th>\n",
       "      <th>order_id</th>\n",
       "      <th>client_id</th>\n",
       "      <th>order_date</th>\n",
       "      <th>KUPON</th>\n",
       "    </tr>\n",
       "    <tr>\n",
       "      <th>item_id</th>\n",
       "      <th></th>\n",
       "      <th></th>\n",
       "      <th></th>\n",
       "      <th></th>\n",
       "    </tr>\n",
       "  </thead>\n",
       "  <tbody>\n",
       "    <tr>\n",
       "      <th>1554376.0</th>\n",
       "      <td>19</td>\n",
       "      <td>19</td>\n",
       "      <td>19</td>\n",
       "      <td>19</td>\n",
       "    </tr>\n",
       "    <tr>\n",
       "      <th>9873648.0</th>\n",
       "      <td>17</td>\n",
       "      <td>17</td>\n",
       "      <td>17</td>\n",
       "      <td>17</td>\n",
       "    </tr>\n",
       "    <tr>\n",
       "      <th>552870.0</th>\n",
       "      <td>16</td>\n",
       "      <td>16</td>\n",
       "      <td>16</td>\n",
       "      <td>16</td>\n",
       "    </tr>\n",
       "    <tr>\n",
       "      <th>5007446.0</th>\n",
       "      <td>15</td>\n",
       "      <td>15</td>\n",
       "      <td>15</td>\n",
       "      <td>15</td>\n",
       "    </tr>\n",
       "    <tr>\n",
       "      <th>7642810.0</th>\n",
       "      <td>15</td>\n",
       "      <td>15</td>\n",
       "      <td>15</td>\n",
       "      <td>15</td>\n",
       "    </tr>\n",
       "    <tr>\n",
       "      <th>...</th>\n",
       "      <td>...</td>\n",
       "      <td>...</td>\n",
       "      <td>...</td>\n",
       "      <td>...</td>\n",
       "    </tr>\n",
       "    <tr>\n",
       "      <th>4666241.0</th>\n",
       "      <td>5</td>\n",
       "      <td>5</td>\n",
       "      <td>5</td>\n",
       "      <td>5</td>\n",
       "    </tr>\n",
       "    <tr>\n",
       "      <th>1816982.0</th>\n",
       "      <td>4</td>\n",
       "      <td>4</td>\n",
       "      <td>4</td>\n",
       "      <td>4</td>\n",
       "    </tr>\n",
       "    <tr>\n",
       "      <th>1115421.0</th>\n",
       "      <td>4</td>\n",
       "      <td>4</td>\n",
       "      <td>4</td>\n",
       "      <td>4</td>\n",
       "    </tr>\n",
       "    <tr>\n",
       "      <th>5168890.0</th>\n",
       "      <td>4</td>\n",
       "      <td>4</td>\n",
       "      <td>4</td>\n",
       "      <td>4</td>\n",
       "    </tr>\n",
       "    <tr>\n",
       "      <th>7250913.0</th>\n",
       "      <td>2</td>\n",
       "      <td>2</td>\n",
       "      <td>2</td>\n",
       "      <td>2</td>\n",
       "    </tr>\n",
       "  </tbody>\n",
       "</table>\n",
       "<p>110 rows × 4 columns</p>\n",
       "</div>"
      ],
      "text/plain": [
       "           order_id  client_id  order_date  KUPON\n",
       "item_id                                          \n",
       "1554376.0        19         19          19     19\n",
       "9873648.0        17         17          17     17\n",
       "552870.0         16         16          16     16\n",
       "5007446.0        15         15          15     15\n",
       "7642810.0        15         15          15     15\n",
       "...             ...        ...         ...    ...\n",
       "4666241.0         5          5           5      5\n",
       "1816982.0         4          4           4      4\n",
       "1115421.0         4          4           4      4\n",
       "5168890.0         4          4           4      4\n",
       "7250913.0         2          2           2      2\n",
       "\n",
       "[110 rows x 4 columns]"
      ]
     },
     "execution_count": 79,
     "metadata": {},
     "output_type": "execute_result"
    }
   ],
   "source": [
    "prod_znizka.loc[~prod_znizka['KUPON'].isna()].groupby('item_id').count().sort_values('KUPON', ascending=False)"
   ]
  },
  {
   "cell_type": "markdown",
   "metadata": {},
   "source": [
    "**ODP:** Ze zniżką najczęściej kupowano produkt 1554376. \n",
    "## Zad.1.6 Jaka była końcowa wartość wszystkich zamówień w badanym okresie?"
   ]
  },
  {
   "cell_type": "code",
   "execution_count": 85,
   "metadata": {},
   "outputs": [
    {
     "name": "stderr",
     "output_type": "stream",
     "text": [
      "/home/marcelina/Documents/Python/1-envir/lib/python3.6/site-packages/ipykernel_launcher.py:3: SettingWithCopyWarning: \n",
      "A value is trying to be set on a copy of a slice from a DataFrame.\n",
      "Try using .loc[row_indexer,col_indexer] = value instead\n",
      "\n",
      "See the caveats in the documentation: http://pandas.pydata.org/pandas-docs/stable/user_guide/indexing.html#returning-a-view-versus-a-copy\n",
      "  This is separate from the ipykernel package so we can avoid doing imports until\n"
     ]
    },
    {
     "data": {
      "text/html": [
       "<div>\n",
       "<style scoped>\n",
       "    .dataframe tbody tr th:only-of-type {\n",
       "        vertical-align: middle;\n",
       "    }\n",
       "\n",
       "    .dataframe tbody tr th {\n",
       "        vertical-align: top;\n",
       "    }\n",
       "\n",
       "    .dataframe thead th {\n",
       "        text-align: right;\n",
       "    }\n",
       "</style>\n",
       "<table border=\"1\" class=\"dataframe\">\n",
       "  <thead>\n",
       "    <tr style=\"text-align: right;\">\n",
       "      <th></th>\n",
       "      <th>item_id</th>\n",
       "      <th>KUPON</th>\n",
       "      <th>wartosc_znizki</th>\n",
       "    </tr>\n",
       "  </thead>\n",
       "  <tbody>\n",
       "    <tr>\n",
       "      <th>0</th>\n",
       "      <td>2655227.0</td>\n",
       "      <td>NaN</td>\n",
       "      <td>NaN</td>\n",
       "    </tr>\n",
       "    <tr>\n",
       "      <th>1</th>\n",
       "      <td>1984910.0</td>\n",
       "      <td>49%</td>\n",
       "      <td>0.49</td>\n",
       "    </tr>\n",
       "    <tr>\n",
       "      <th>2</th>\n",
       "      <td>2669985.0</td>\n",
       "      <td>NaN</td>\n",
       "      <td>NaN</td>\n",
       "    </tr>\n",
       "    <tr>\n",
       "      <th>3</th>\n",
       "      <td>5966397.0</td>\n",
       "      <td>5%</td>\n",
       "      <td>0.05</td>\n",
       "    </tr>\n",
       "    <tr>\n",
       "      <th>4</th>\n",
       "      <td>6788106.0</td>\n",
       "      <td>NaN</td>\n",
       "      <td>NaN</td>\n",
       "    </tr>\n",
       "    <tr>\n",
       "      <th>5</th>\n",
       "      <td>4652599.0</td>\n",
       "      <td>NaN</td>\n",
       "      <td>NaN</td>\n",
       "    </tr>\n",
       "    <tr>\n",
       "      <th>6</th>\n",
       "      <td>2940993.0</td>\n",
       "      <td>NaN</td>\n",
       "      <td>NaN</td>\n",
       "    </tr>\n",
       "    <tr>\n",
       "      <th>7</th>\n",
       "      <td>4355722.0</td>\n",
       "      <td>NaN</td>\n",
       "      <td>NaN</td>\n",
       "    </tr>\n",
       "    <tr>\n",
       "      <th>8</th>\n",
       "      <td>9038883.0</td>\n",
       "      <td>7%</td>\n",
       "      <td>0.07</td>\n",
       "    </tr>\n",
       "    <tr>\n",
       "      <th>9</th>\n",
       "      <td>5168890.0</td>\n",
       "      <td>NaN</td>\n",
       "      <td>NaN</td>\n",
       "    </tr>\n",
       "    <tr>\n",
       "      <th>10</th>\n",
       "      <td>4738768.0</td>\n",
       "      <td>NaN</td>\n",
       "      <td>NaN</td>\n",
       "    </tr>\n",
       "    <tr>\n",
       "      <th>11</th>\n",
       "      <td>7642810.0</td>\n",
       "      <td>23%</td>\n",
       "      <td>0.23</td>\n",
       "    </tr>\n",
       "    <tr>\n",
       "      <th>12</th>\n",
       "      <td>7499242.0</td>\n",
       "      <td>NaN</td>\n",
       "      <td>NaN</td>\n",
       "    </tr>\n",
       "    <tr>\n",
       "      <th>13</th>\n",
       "      <td>2050490.0</td>\n",
       "      <td>NaN</td>\n",
       "      <td>NaN</td>\n",
       "    </tr>\n",
       "    <tr>\n",
       "      <th>14</th>\n",
       "      <td>3824444.0</td>\n",
       "      <td>NaN</td>\n",
       "      <td>NaN</td>\n",
       "    </tr>\n",
       "  </tbody>\n",
       "</table>\n",
       "</div>"
      ],
      "text/plain": [
       "      item_id KUPON  wartosc_znizki\n",
       "0   2655227.0   NaN             NaN\n",
       "1   1984910.0   49%            0.49\n",
       "2   2669985.0   NaN             NaN\n",
       "3   5966397.0    5%            0.05\n",
       "4   6788106.0   NaN             NaN\n",
       "5   4652599.0   NaN             NaN\n",
       "6   2940993.0   NaN             NaN\n",
       "7   4355722.0   NaN             NaN\n",
       "8   9038883.0    7%            0.07\n",
       "9   5168890.0   NaN             NaN\n",
       "10  4738768.0   NaN             NaN\n",
       "11  7642810.0   23%            0.23\n",
       "12  7499242.0   NaN             NaN\n",
       "13  2050490.0   NaN             NaN\n",
       "14  3824444.0   NaN             NaN"
      ]
     },
     "execution_count": 85,
     "metadata": {},
     "output_type": "execute_result"
    }
   ],
   "source": [
    "# z tabeli 'prod_znizka' wyodrębnić kolumny 'item_id' oraz 'KUPON' i zamienić dtype na float\n",
    "znizka = prod_znizka[['item_id', 'KUPON']]\n",
    "znizka['wartosc_znizki'] = znizka['KUPON'].str.rstrip('%').astype('float')/100\n",
    "znizka.head(15)"
   ]
  },
  {
   "cell_type": "code",
   "execution_count": 87,
   "metadata": {},
   "outputs": [
    {
     "data": {
      "text/html": [
       "<div>\n",
       "<style scoped>\n",
       "    .dataframe tbody tr th:only-of-type {\n",
       "        vertical-align: middle;\n",
       "    }\n",
       "\n",
       "    .dataframe tbody tr th {\n",
       "        vertical-align: top;\n",
       "    }\n",
       "\n",
       "    .dataframe thead th {\n",
       "        text-align: right;\n",
       "    }\n",
       "</style>\n",
       "<table border=\"1\" class=\"dataframe\">\n",
       "  <thead>\n",
       "    <tr style=\"text-align: right;\">\n",
       "      <th></th>\n",
       "      <th>item_id</th>\n",
       "      <th>KUPON</th>\n",
       "      <th>wartosc_znizki</th>\n",
       "      <th>base_price</th>\n",
       "    </tr>\n",
       "  </thead>\n",
       "  <tbody>\n",
       "    <tr>\n",
       "      <th>0</th>\n",
       "      <td>2655227.0</td>\n",
       "      <td>NaN</td>\n",
       "      <td>NaN</td>\n",
       "      <td>122</td>\n",
       "    </tr>\n",
       "    <tr>\n",
       "      <th>1</th>\n",
       "      <td>1984910.0</td>\n",
       "      <td>49%</td>\n",
       "      <td>0.49</td>\n",
       "      <td>136</td>\n",
       "    </tr>\n",
       "    <tr>\n",
       "      <th>2</th>\n",
       "      <td>2669985.0</td>\n",
       "      <td>NaN</td>\n",
       "      <td>NaN</td>\n",
       "      <td>142</td>\n",
       "    </tr>\n",
       "    <tr>\n",
       "      <th>3</th>\n",
       "      <td>5966397.0</td>\n",
       "      <td>5%</td>\n",
       "      <td>0.05</td>\n",
       "      <td>226</td>\n",
       "    </tr>\n",
       "    <tr>\n",
       "      <th>4</th>\n",
       "      <td>6788106.0</td>\n",
       "      <td>NaN</td>\n",
       "      <td>NaN</td>\n",
       "      <td>117</td>\n",
       "    </tr>\n",
       "    <tr>\n",
       "      <th>5</th>\n",
       "      <td>4652599.0</td>\n",
       "      <td>NaN</td>\n",
       "      <td>NaN</td>\n",
       "      <td>152</td>\n",
       "    </tr>\n",
       "    <tr>\n",
       "      <th>6</th>\n",
       "      <td>2940993.0</td>\n",
       "      <td>NaN</td>\n",
       "      <td>NaN</td>\n",
       "      <td>232</td>\n",
       "    </tr>\n",
       "    <tr>\n",
       "      <th>7</th>\n",
       "      <td>4355722.0</td>\n",
       "      <td>NaN</td>\n",
       "      <td>NaN</td>\n",
       "      <td>178</td>\n",
       "    </tr>\n",
       "    <tr>\n",
       "      <th>8</th>\n",
       "      <td>9038883.0</td>\n",
       "      <td>7%</td>\n",
       "      <td>0.07</td>\n",
       "      <td>155</td>\n",
       "    </tr>\n",
       "    <tr>\n",
       "      <th>9</th>\n",
       "      <td>5168890.0</td>\n",
       "      <td>NaN</td>\n",
       "      <td>NaN</td>\n",
       "      <td>230</td>\n",
       "    </tr>\n",
       "  </tbody>\n",
       "</table>\n",
       "</div>"
      ],
      "text/plain": [
       "     item_id KUPON  wartosc_znizki  base_price\n",
       "0  2655227.0   NaN             NaN         122\n",
       "1  1984910.0   49%            0.49         136\n",
       "2  2669985.0   NaN             NaN         142\n",
       "3  5966397.0    5%            0.05         226\n",
       "4  6788106.0   NaN             NaN         117\n",
       "5  4652599.0   NaN             NaN         152\n",
       "6  2940993.0   NaN             NaN         232\n",
       "7  4355722.0   NaN             NaN         178\n",
       "8  9038883.0    7%            0.07         155\n",
       "9  5168890.0   NaN             NaN         230"
      ]
     },
     "execution_count": 87,
     "metadata": {},
     "output_type": "execute_result"
    }
   ],
   "source": [
    "#połaczyc tabele znizka z cena bazowa (pracując z realnymi danymi \n",
    "#zastanowiłoby mnie, dlaczego cena bazowa za każdym razem jest liczbą całkowitą)\n",
    "\n",
    "do_sumowania = pd.merge(left = znizka, right = cena_bazowa, on='item_id', how = 'left')\n",
    "do_sumowania.head(10)\n"
   ]
  },
  {
   "cell_type": "code",
   "execution_count": 90,
   "metadata": {},
   "outputs": [
    {
     "data": {
      "text/html": [
       "<div>\n",
       "<style scoped>\n",
       "    .dataframe tbody tr th:only-of-type {\n",
       "        vertical-align: middle;\n",
       "    }\n",
       "\n",
       "    .dataframe tbody tr th {\n",
       "        vertical-align: top;\n",
       "    }\n",
       "\n",
       "    .dataframe thead th {\n",
       "        text-align: right;\n",
       "    }\n",
       "</style>\n",
       "<table border=\"1\" class=\"dataframe\">\n",
       "  <thead>\n",
       "    <tr style=\"text-align: right;\">\n",
       "      <th></th>\n",
       "      <th>item_id</th>\n",
       "      <th>KUPON</th>\n",
       "      <th>wartosc_znizki</th>\n",
       "      <th>base_price</th>\n",
       "      <th>cena_wiersza</th>\n",
       "    </tr>\n",
       "  </thead>\n",
       "  <tbody>\n",
       "    <tr>\n",
       "      <th>0</th>\n",
       "      <td>2655227.0</td>\n",
       "      <td>NaN</td>\n",
       "      <td>0.00</td>\n",
       "      <td>122</td>\n",
       "      <td>122.0000</td>\n",
       "    </tr>\n",
       "    <tr>\n",
       "      <th>1</th>\n",
       "      <td>1984910.0</td>\n",
       "      <td>49%</td>\n",
       "      <td>0.49</td>\n",
       "      <td>136</td>\n",
       "      <td>135.7599</td>\n",
       "    </tr>\n",
       "    <tr>\n",
       "      <th>2</th>\n",
       "      <td>2669985.0</td>\n",
       "      <td>NaN</td>\n",
       "      <td>0.00</td>\n",
       "      <td>142</td>\n",
       "      <td>142.0000</td>\n",
       "    </tr>\n",
       "    <tr>\n",
       "      <th>3</th>\n",
       "      <td>5966397.0</td>\n",
       "      <td>5%</td>\n",
       "      <td>0.05</td>\n",
       "      <td>226</td>\n",
       "      <td>225.9975</td>\n",
       "    </tr>\n",
       "    <tr>\n",
       "      <th>4</th>\n",
       "      <td>6788106.0</td>\n",
       "      <td>NaN</td>\n",
       "      <td>0.00</td>\n",
       "      <td>117</td>\n",
       "      <td>117.0000</td>\n",
       "    </tr>\n",
       "    <tr>\n",
       "      <th>5</th>\n",
       "      <td>4652599.0</td>\n",
       "      <td>NaN</td>\n",
       "      <td>0.00</td>\n",
       "      <td>152</td>\n",
       "      <td>152.0000</td>\n",
       "    </tr>\n",
       "    <tr>\n",
       "      <th>6</th>\n",
       "      <td>2940993.0</td>\n",
       "      <td>NaN</td>\n",
       "      <td>0.00</td>\n",
       "      <td>232</td>\n",
       "      <td>232.0000</td>\n",
       "    </tr>\n",
       "    <tr>\n",
       "      <th>7</th>\n",
       "      <td>4355722.0</td>\n",
       "      <td>NaN</td>\n",
       "      <td>0.00</td>\n",
       "      <td>178</td>\n",
       "      <td>178.0000</td>\n",
       "    </tr>\n",
       "    <tr>\n",
       "      <th>8</th>\n",
       "      <td>9038883.0</td>\n",
       "      <td>7%</td>\n",
       "      <td>0.07</td>\n",
       "      <td>155</td>\n",
       "      <td>154.9951</td>\n",
       "    </tr>\n",
       "    <tr>\n",
       "      <th>9</th>\n",
       "      <td>5168890.0</td>\n",
       "      <td>NaN</td>\n",
       "      <td>0.00</td>\n",
       "      <td>230</td>\n",
       "      <td>230.0000</td>\n",
       "    </tr>\n",
       "    <tr>\n",
       "      <th>10</th>\n",
       "      <td>4738768.0</td>\n",
       "      <td>NaN</td>\n",
       "      <td>0.00</td>\n",
       "      <td>131</td>\n",
       "      <td>131.0000</td>\n",
       "    </tr>\n",
       "    <tr>\n",
       "      <th>11</th>\n",
       "      <td>7642810.0</td>\n",
       "      <td>23%</td>\n",
       "      <td>0.23</td>\n",
       "      <td>147</td>\n",
       "      <td>146.9471</td>\n",
       "    </tr>\n",
       "    <tr>\n",
       "      <th>12</th>\n",
       "      <td>7499242.0</td>\n",
       "      <td>NaN</td>\n",
       "      <td>0.00</td>\n",
       "      <td>121</td>\n",
       "      <td>121.0000</td>\n",
       "    </tr>\n",
       "    <tr>\n",
       "      <th>13</th>\n",
       "      <td>2050490.0</td>\n",
       "      <td>NaN</td>\n",
       "      <td>0.00</td>\n",
       "      <td>214</td>\n",
       "      <td>214.0000</td>\n",
       "    </tr>\n",
       "    <tr>\n",
       "      <th>14</th>\n",
       "      <td>3824444.0</td>\n",
       "      <td>NaN</td>\n",
       "      <td>0.00</td>\n",
       "      <td>119</td>\n",
       "      <td>119.0000</td>\n",
       "    </tr>\n",
       "  </tbody>\n",
       "</table>\n",
       "</div>"
      ],
      "text/plain": [
       "      item_id KUPON  wartosc_znizki  base_price  cena_wiersza\n",
       "0   2655227.0   NaN            0.00         122      122.0000\n",
       "1   1984910.0   49%            0.49         136      135.7599\n",
       "2   2669985.0   NaN            0.00         142      142.0000\n",
       "3   5966397.0    5%            0.05         226      225.9975\n",
       "4   6788106.0   NaN            0.00         117      117.0000\n",
       "5   4652599.0   NaN            0.00         152      152.0000\n",
       "6   2940993.0   NaN            0.00         232      232.0000\n",
       "7   4355722.0   NaN            0.00         178      178.0000\n",
       "8   9038883.0    7%            0.07         155      154.9951\n",
       "9   5168890.0   NaN            0.00         230      230.0000\n",
       "10  4738768.0   NaN            0.00         131      131.0000\n",
       "11  7642810.0   23%            0.23         147      146.9471\n",
       "12  7499242.0   NaN            0.00         121      121.0000\n",
       "13  2050490.0   NaN            0.00         214      214.0000\n",
       "14  3824444.0   NaN            0.00         119      119.0000"
      ]
     },
     "execution_count": 90,
     "metadata": {},
     "output_type": "execute_result"
    }
   ],
   "source": [
    "do_sumowania.loc[do_sumowania['wartosc_znizki'].isna(), 'wartosc_znizki'] = 0\n",
    "do_sumowania['cena_wiersza'] = do_sumowania['base_price'] - (do_sumowania['wartosc_znizki'] * do_sumowania['wartosc_znizki'])\n",
    "\n",
    "do_sumowania.head(15)"
   ]
  },
  {
   "cell_type": "code",
   "execution_count": 93,
   "metadata": {},
   "outputs": [
    {
     "name": "stdout",
     "output_type": "stream",
     "text": [
      "839016.8334\n"
     ]
    }
   ],
   "source": [
    "wyniki = do_sumowania['cena_wiersza'].sum()\n",
    "print(wyniki)"
   ]
  },
  {
   "cell_type": "markdown",
   "metadata": {},
   "source": [
    "**ODP:** Łączna kwota wszystkich zamówień (z uwzględnieniem zniżek) wyniosła 839016,8334 (',' to znak dziesiętny)"
   ]
  },
  {
   "cell_type": "code",
   "execution_count": null,
   "metadata": {},
   "outputs": [],
   "source": []
  },
  {
   "cell_type": "code",
   "execution_count": null,
   "metadata": {},
   "outputs": [],
   "source": []
  },
  {
   "cell_type": "code",
   "execution_count": null,
   "metadata": {},
   "outputs": [],
   "source": []
  }
 ],
 "metadata": {
  "kernelspec": {
   "display_name": "Python 3",
   "language": "python",
   "name": "python3"
  },
  "language_info": {
   "codemirror_mode": {
    "name": "ipython",
    "version": 3
   },
   "file_extension": ".py",
   "mimetype": "text/x-python",
   "name": "python",
   "nbconvert_exporter": "python",
   "pygments_lexer": "ipython3",
   "version": "3.6.9"
  }
 },
 "nbformat": 4,
 "nbformat_minor": 4
}
